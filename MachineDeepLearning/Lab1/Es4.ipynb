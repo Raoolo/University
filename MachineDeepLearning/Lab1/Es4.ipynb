{
  "nbformat": 4,
  "nbformat_minor": 0,
  "metadata": {
    "colab": {
      "provenance": [],
      "authorship_tag": "ABX9TyO+sg36+KsKYg55R7ypUTtF",
      "include_colab_link": true
    },
    "kernelspec": {
      "name": "python3",
      "display_name": "Python 3"
    },
    "language_info": {
      "name": "python"
    },
    "gpuClass": "standard"
  },
  "cells": [
    {
      "cell_type": "markdown",
      "metadata": {
        "id": "view-in-github",
        "colab_type": "text"
      },
      "source": [
        "<a href=\"https://colab.research.google.com/github/Raoolo/University/blob/main/MachineDeepLearning/Lab1/Es4.ipynb\" target=\"_parent\"><img src=\"https://colab.research.google.com/assets/colab-badge.svg\" alt=\"Open In Colab\"/></a>"
      ]
    },
    {
      "cell_type": "code",
      "execution_count": 1,
      "metadata": {
        "id": "3wywK8bb71AR"
      },
      "outputs": [],
      "source": [
        "import torch, torchvision\n",
        "from torch.utils.data import Dataset"
      ]
    },
    {
      "cell_type": "code",
      "source": [
        "class loadCIFAR(Dataset):\n",
        "  def __init__(self):\n",
        "    self.dataTrain = torchvision.datasets.CIFAR10(root='sample_data/', download=True, transform=torchvision.transforms.ToTensor())\n",
        "    self.dataTest = torchvision.datasets.CIFAR10(root='sample_data/', download=True, train=False, transform=torchvision.transforms.ToTensor())\n",
        "\n",
        "  def __len__(self):\n",
        "    return len(self.dataTrain)"
      ],
      "metadata": {
        "id": "z7syXNHqCXwP"
      },
      "execution_count": 9,
      "outputs": []
    },
    {
      "cell_type": "code",
      "source": [
        "cif = loadCIFAR()"
      ],
      "metadata": {
        "id": "VuaDpK8nIg3I",
        "outputId": "b5f2a512-ce76-4a1c-d9c8-94bbb77dbf6f",
        "colab": {
          "base_uri": "https://localhost:8080/"
        }
      },
      "execution_count": 13,
      "outputs": [
        {
          "output_type": "stream",
          "name": "stdout",
          "text": [
            "Files already downloaded and verified\n",
            "Files already downloaded and verified\n"
          ]
        }
      ]
    },
    {
      "cell_type": "code",
      "source": [
        "train = cif.dataTrain\n",
        "test = cif.dataTest\n",
        "test, train"
      ],
      "metadata": {
        "id": "CMzJeI-WIzrA"
      },
      "execution_count": null,
      "outputs": []
    },
    {
      "cell_type": "code",
      "source": [
        "cif.len()"
      ],
      "metadata": {
        "id": "mDn4oxmYJO3K"
      },
      "execution_count": null,
      "outputs": []
    }
  ]
}