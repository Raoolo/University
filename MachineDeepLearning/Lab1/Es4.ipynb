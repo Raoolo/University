{
  "nbformat": 4,
  "nbformat_minor": 0,
  "metadata": {
    "colab": {
      "provenance": [],
      "authorship_tag": "ABX9TyNPVSvUzWWQkUy6bpKAuG19",
      "include_colab_link": true
    },
    "kernelspec": {
      "name": "python3",
      "display_name": "Python 3"
    },
    "language_info": {
      "name": "python"
    },
    "gpuClass": "standard"
  },
  "cells": [
    {
      "cell_type": "markdown",
      "metadata": {
        "id": "view-in-github",
        "colab_type": "text"
      },
      "source": [
        "<a href=\"https://colab.research.google.com/github/Raoolo/University/blob/main/MachineDeepLearning/Lab1/Es4.ipynb\" target=\"_parent\"><img src=\"https://colab.research.google.com/assets/colab-badge.svg\" alt=\"Open In Colab\"/></a>"
      ]
    },
    {
      "cell_type": "code",
      "execution_count": 1,
      "metadata": {
        "id": "3wywK8bb71AR"
      },
      "outputs": [],
      "source": [
        "import torch, torchvision\n",
        "from torch.utils.data import Dataset"
      ]
    },
    {
      "cell_type": "code",
      "source": [
        "class loadCIFAR(Dataset):\n",
        "  def __init__(self, bs = 4):\n",
        "    self.dataTrain = torchvision.datasets.CIFAR10(root='sample_data/', download=True, transform=torchvision.transforms.ToTensor())\n",
        "    self.dataTest = torchvision.datasets.CIFAR10(root='sample_data/', download=True, train=False, transform=torchvision.transforms.ToTensor())\n",
        "    self.trainLoader = torch.utils.data.DataLoader(self.dataTrain, batch_size=bs, shuffle=True)\n",
        "    self.testLoader = torch.utils.data.DataLoader(self.dataTest, batch_size=bs, shuffle=True)\n",
        "\n",
        "  def __len__(self):\n",
        "    return len(self.dataTrain)    #non serve a nulla per ora?\n"
      ],
      "metadata": {
        "id": "z7syXNHqCXwP"
      },
      "execution_count": 37,
      "outputs": []
    },
    {
      "cell_type": "code",
      "source": [
        "cif = loadCIFAR()"
      ],
      "metadata": {
        "colab": {
          "base_uri": "https://localhost:8080/"
        },
        "id": "VuaDpK8nIg3I",
        "outputId": "d0e0c555-48fd-418f-9f96-180312306f54"
      },
      "execution_count": 38,
      "outputs": [
        {
          "output_type": "stream",
          "name": "stdout",
          "text": [
            "Files already downloaded and verified\n",
            "Files already downloaded and verified\n"
          ]
        }
      ]
    },
    {
      "cell_type": "code",
      "source": [
        "trainData = cif.dataTrain\n",
        "testData = cif.dataTest\n",
        "trainLoader = cif.trainLoader\n",
        "testLoader =  cif.testLoader"
      ],
      "metadata": {
        "id": "CMzJeI-WIzrA"
      },
      "execution_count": 42,
      "outputs": []
    },
    {
      "cell_type": "code",
      "source": [
        "trainData, testData, trainLoader, testLoader"
      ],
      "metadata": {
        "id": "SdCqgxgPQl7z",
        "outputId": "b18b8e32-e799-4bf4-c1b7-2e733f45517a",
        "colab": {
          "base_uri": "https://localhost:8080/"
        }
      },
      "execution_count": 41,
      "outputs": [
        {
          "output_type": "execute_result",
          "data": {
            "text/plain": [
              "(Dataset CIFAR10\n",
              "     Number of datapoints: 50000\n",
              "     Root location: sample_data/\n",
              "     Split: Train\n",
              "     StandardTransform\n",
              " Transform: ToTensor(), Dataset CIFAR10\n",
              "     Number of datapoints: 10000\n",
              "     Root location: sample_data/\n",
              "     Split: Test\n",
              "     StandardTransform\n",
              " Transform: ToTensor(), <torch.utils.data.dataloader.DataLoader at 0x7fdb9dd515e0>, <torch.utils.data.dataloader.DataLoader at 0x7fdbac6cbe20>)"
            ]
          },
          "metadata": {},
          "execution_count": 41
        }
      ]
    },
    {
      "cell_type": "markdown",
      "source": [
        "Plot some images"
      ],
      "metadata": {
        "id": "wcna_8tJR08F"
      }
    },
    {
      "cell_type": "code",
      "source": [
        "import numpy as np\n",
        "import matplotlib.pyplot as plt\n",
        "toPlot = trainData[123][0].numpy()\n",
        "plt.imshow(np.transpose(toPlot, (1, 2, 0)))     #need to also change the order of the axes\n"
      ],
      "metadata": {
        "id": "MpUNKIkeR0wM",
        "outputId": "eee104f0-a697-4965-85ea-d0602ecc86b3",
        "colab": {
          "base_uri": "https://localhost:8080/",
          "height": 283
        }
      },
      "execution_count": 50,
      "outputs": [
        {
          "output_type": "execute_result",
          "data": {
            "text/plain": [
              "<matplotlib.image.AxesImage at 0x7fdb9d5a6c40>"
            ]
          },
          "metadata": {},
          "execution_count": 50
        },
        {
          "output_type": "display_data",
          "data": {
            "text/plain": [
              "<Figure size 432x288 with 1 Axes>"
            ],
            "image/png": "[encoded data removed]"
          },
          "metadata": {
            "needs_background": "light"
          }
        }
      ]
    },
    {
      "cell_type": "code",
      "source": [
        "labels_map = {0: \"airplane\", 1: \"automobile\", 2: \"bird\", 3: \"cat\", 4: \"deer\", 5:\n",
        "\"dog\", 6: \"frog\", 7: \"horse\", 8: \"ship\", 9: \"truck\"}"
      ],
      "metadata": {
        "id": "Ko9ABGVjReVv"
      },
      "execution_count": null,
      "outputs": []
    }
  ]
}