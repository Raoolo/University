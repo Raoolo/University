{
  "nbformat": 4,
  "nbformat_minor": 0,
  "metadata": {
    "colab": {
      "provenance": [],
      "authorship_tag": "ABX9TyNGZ3WpLg4RGB7ztTZLTvHL",
      "include_colab_link": true
    },
    "kernelspec": {
      "name": "python3",
      "display_name": "Python 3"
    },
    "language_info": {
      "name": "python"
    },
    "gpuClass": "standard",
    "accelerator": "GPU",
    "widgets": {
      "application/vnd.jupyter.widget-state+json": {
        "c24b72bae5fa4578b2d59e930019dc08": {
          "model_module": "@jupyter-widgets/controls",
          "model_name": "HBoxModel",
          "model_module_version": "1.5.0",
          "state": {
            "_dom_classes": [],
            "_model_module": "@jupyter-widgets/controls",
            "_model_module_version": "1.5.0",
            "_model_name": "HBoxModel",
            "_view_count": null,
            "_view_module": "@jupyter-widgets/controls",
            "_view_module_version": "1.5.0",
            "_view_name": "HBoxView",
            "box_style": "",
            "children": [
              "IPY_MODEL_74648ea7d1764bf7ab3752c01f242d28",
              "IPY_MODEL_cf3550aaa8f349d6bfc80acbda9cded7",
              "IPY_MODEL_3000e618bbcf4cb78feb2044f07551e7"
            ],
            "layout": "IPY_MODEL_432db0e305104a01aaa25c98fb068b90"
          }
        },
        "74648ea7d1764bf7ab3752c01f242d28": {
          "model_module": "@jupyter-widgets/controls",
          "model_name": "HTMLModel",
          "model_module_version": "1.5.0",
          "state": {
            "_dom_classes": [],
            "_model_module": "@jupyter-widgets/controls",
            "_model_module_version": "1.5.0",
            "_model_name": "HTMLModel",
            "_view_count": null,
            "_view_module": "@jupyter-widgets/controls",
            "_view_module_version": "1.5.0",
            "_view_name": "HTMLView",
            "description": "",
            "description_tooltip": null,
            "layout": "IPY_MODEL_50ae16928b7d4c84a4422b8f0a2c9d25",
            "placeholder": "​",
            "style": "IPY_MODEL_d6a059105d164869abc69239ed154ad8",
            "value": "100%"
          }
        },
        "cf3550aaa8f349d6bfc80acbda9cded7": {
          "model_module": "@jupyter-widgets/controls",
          "model_name": "FloatProgressModel",
          "model_module_version": "1.5.0",
          "state": {
            "_dom_classes": [],
            "_model_module": "@jupyter-widgets/controls",
            "_model_module_version": "1.5.0",
            "_model_name": "FloatProgressModel",
            "_view_count": null,
            "_view_module": "@jupyter-widgets/controls",
            "_view_module_version": "1.5.0",
            "_view_name": "ProgressView",
            "bar_style": "success",
            "description": "",
            "description_tooltip": null,
            "layout": "IPY_MODEL_be7d4470458149e2a4652a40f38e69c4",
            "max": 170498071,
            "min": 0,
            "orientation": "horizontal",
            "style": "IPY_MODEL_b241f7fe6d234e429d4af5fa4b38fc03",
            "value": 170498071
          }
        },
        "3000e618bbcf4cb78feb2044f07551e7": {
          "model_module": "@jupyter-widgets/controls",
          "model_name": "HTMLModel",
          "model_module_version": "1.5.0",
          "state": {
            "_dom_classes": [],
            "_model_module": "@jupyter-widgets/controls",
            "_model_module_version": "1.5.0",
            "_model_name": "HTMLModel",
            "_view_count": null,
            "_view_module": "@jupyter-widgets/controls",
            "_view_module_version": "1.5.0",
            "_view_name": "HTMLView",
            "description": "",
            "description_tooltip": null,
            "layout": "IPY_MODEL_713a639a012a4667b8aa92b61299b318",
            "placeholder": "​",
            "style": "IPY_MODEL_873a15d58e624693bb0656329d1f30c0",
            "value": " 170498071/170498071 [00:03&lt;00:00, 53284851.29it/s]"
          }
        },
        "432db0e305104a01aaa25c98fb068b90": {
          "model_module": "@jupyter-widgets/base",
          "model_name": "LayoutModel",
          "model_module_version": "1.2.0",
          "state": {
            "_model_module": "@jupyter-widgets/base",
            "_model_module_version": "1.2.0",
            "_model_name": "LayoutModel",
            "_view_count": null,
            "_view_module": "@jupyter-widgets/base",
            "_view_module_version": "1.2.0",
            "_view_name": "LayoutView",
            "align_content": null,
            "align_items": null,
            "align_self": null,
            "border": null,
            "bottom": null,
            "display": null,
            "flex": null,
            "flex_flow": null,
            "grid_area": null,
            "grid_auto_columns": null,
            "grid_auto_flow": null,
            "grid_auto_rows": null,
            "grid_column": null,
            "grid_gap": null,
            "grid_row": null,
            "grid_template_areas": null,
            "grid_template_columns": null,
            "grid_template_rows": null,
            "height": null,
            "justify_content": null,
            "justify_items": null,
            "left": null,
            "margin": null,
            "max_height": null,
            "max_width": null,
            "min_height": null,
            "min_width": null,
            "object_fit": null,
            "object_position": null,
            "order": null,
            "overflow": null,
            "overflow_x": null,
            "overflow_y": null,
            "padding": null,
            "right": null,
            "top": null,
            "visibility": null,
            "width": null
          }
        },
        "50ae16928b7d4c84a4422b8f0a2c9d25": {
          "model_module": "@jupyter-widgets/base",
          "model_name": "LayoutModel",
          "model_module_version": "1.2.0",
          "state": {
            "_model_module": "@jupyter-widgets/base",
            "_model_module_version": "1.2.0",
            "_model_name": "LayoutModel",
            "_view_count": null,
            "_view_module": "@jupyter-widgets/base",
            "_view_module_version": "1.2.0",
            "_view_name": "LayoutView",
            "align_content": null,
            "align_items": null,
            "align_self": null,
            "border": null,
            "bottom": null,
            "display": null,
            "flex": null,
            "flex_flow": null,
            "grid_area": null,
            "grid_auto_columns": null,
            "grid_auto_flow": null,
            "grid_auto_rows": null,
            "grid_column": null,
            "grid_gap": null,
            "grid_row": null,
            "grid_template_areas": null,
            "grid_template_columns": null,
            "grid_template_rows": null,
            "height": null,
            "justify_content": null,
            "justify_items": null,
            "left": null,
            "margin": null,
            "max_height": null,
            "max_width": null,
            "min_height": null,
            "min_width": null,
            "object_fit": null,
            "object_position": null,
            "order": null,
            "overflow": null,
            "overflow_x": null,
            "overflow_y": null,
            "padding": null,
            "right": null,
            "top": null,
            "visibility": null,
            "width": null
          }
        },
        "d6a059105d164869abc69239ed154ad8": {
          "model_module": "@jupyter-widgets/controls",
          "model_name": "DescriptionStyleModel",
          "model_module_version": "1.5.0",
          "state": {
            "_model_module": "@jupyter-widgets/controls",
            "_model_module_version": "1.5.0",
            "_model_name": "DescriptionStyleModel",
            "_view_count": null,
            "_view_module": "@jupyter-widgets/base",
            "_view_module_version": "1.2.0",
            "_view_name": "StyleView",
            "description_width": ""
          }
        },
        "be7d4470458149e2a4652a40f38e69c4": {
          "model_module": "@jupyter-widgets/base",
          "model_name": "LayoutModel",
          "model_module_version": "1.2.0",
          "state": {
            "_model_module": "@jupyter-widgets/base",
            "_model_module_version": "1.2.0",
            "_model_name": "LayoutModel",
            "_view_count": null,
            "_view_module": "@jupyter-widgets/base",
            "_view_module_version": "1.2.0",
            "_view_name": "LayoutView",
            "align_content": null,
            "align_items": null,
            "align_self": null,
            "border": null,
            "bottom": null,
            "display": null,
            "flex": null,
            "flex_flow": null,
            "grid_area": null,
            "grid_auto_columns": null,
            "grid_auto_flow": null,
            "grid_auto_rows": null,
            "grid_column": null,
            "grid_gap": null,
            "grid_row": null,
            "grid_template_areas": null,
            "grid_template_columns": null,
            "grid_template_rows": null,
            "height": null,
            "justify_content": null,
            "justify_items": null,
            "left": null,
            "margin": null,
            "max_height": null,
            "max_width": null,
            "min_height": null,
            "min_width": null,
            "object_fit": null,
            "object_position": null,
            "order": null,
            "overflow": null,
            "overflow_x": null,
            "overflow_y": null,
            "padding": null,
            "right": null,
            "top": null,
            "visibility": null,
            "width": null
          }
        },
        "b241f7fe6d234e429d4af5fa4b38fc03": {
          "model_module": "@jupyter-widgets/controls",
          "model_name": "ProgressStyleModel",
          "model_module_version": "1.5.0",
          "state": {
            "_model_module": "@jupyter-widgets/controls",
            "_model_module_version": "1.5.0",
            "_model_name": "ProgressStyleModel",
            "_view_count": null,
            "_view_module": "@jupyter-widgets/base",
            "_view_module_version": "1.2.0",
            "_view_name": "StyleView",
            "bar_color": null,
            "description_width": ""
          }
        },
        "713a639a012a4667b8aa92b61299b318": {
          "model_module": "@jupyter-widgets/base",
          "model_name": "LayoutModel",
          "model_module_version": "1.2.0",
          "state": {
            "_model_module": "@jupyter-widgets/base",
            "_model_module_version": "1.2.0",
            "_model_name": "LayoutModel",
            "_view_count": null,
            "_view_module": "@jupyter-widgets/base",
            "_view_module_version": "1.2.0",
            "_view_name": "LayoutView",
            "align_content": null,
            "align_items": null,
            "align_self": null,
            "border": null,
            "bottom": null,
            "display": null,
            "flex": null,
            "flex_flow": null,
            "grid_area": null,
            "grid_auto_columns": null,
            "grid_auto_flow": null,
            "grid_auto_rows": null,
            "grid_column": null,
            "grid_gap": null,
            "grid_row": null,
            "grid_template_areas": null,
            "grid_template_columns": null,
            "grid_template_rows": null,
            "height": null,
            "justify_content": null,
            "justify_items": null,
            "left": null,
            "margin": null,
            "max_height": null,
            "max_width": null,
            "min_height": null,
            "min_width": null,
            "object_fit": null,
            "object_position": null,
            "order": null,
            "overflow": null,
            "overflow_x": null,
            "overflow_y": null,
            "padding": null,
            "right": null,
            "top": null,
            "visibility": null,
            "width": null
          }
        },
        "873a15d58e624693bb0656329d1f30c0": {
          "model_module": "@jupyter-widgets/controls",
          "model_name": "DescriptionStyleModel",
          "model_module_version": "1.5.0",
          "state": {
            "_model_module": "@jupyter-widgets/controls",
            "_model_module_version": "1.5.0",
            "_model_name": "DescriptionStyleModel",
            "_view_count": null,
            "_view_module": "@jupyter-widgets/base",
            "_view_module_version": "1.2.0",
            "_view_name": "StyleView",
            "description_width": ""
          }
        }
      }
    }
  },
  "cells": [
    {
      "cell_type": "markdown",
      "metadata": {
        "id": "view-in-github",
        "colab_type": "text"
      },
      "source": [
        "<a href=\"https://colab.research.google.com/github/Raoolo/University/blob/main/MachineDeepLearning/Lab1/Es4.ipynb\" target=\"_parent\"><img src=\"https://colab.research.google.com/assets/colab-badge.svg\" alt=\"Open In Colab\"/></a>"
      ]
    },
    {
      "cell_type": "code",
      "execution_count": 1,
      "metadata": {
        "id": "3wywK8bb71AR"
      },
      "outputs": [],
      "source": [
        "import torch, torchvision\n",
        "from torch.utils.data import Dataset"
      ]
    },
    {
      "cell_type": "code",
      "source": [
        "class loadCIFAR(Dataset):\n",
        "  def __init__(self, bs = 1):\n",
        "    self.dataTrain = torchvision.datasets.CIFAR10(root='sample_data/', download=True, transform=torchvision.transforms.ToTensor())\n",
        "    self.dataTest = torchvision.datasets.CIFAR10(root='sample_data/', download=True, train=False, transform=torchvision.transforms.ToTensor())\n",
        "    self.trainLoader = torch.utils.data.DataLoader(self.dataTrain, batch_size=bs, shuffle=True)\n",
        "    self.testLoader = torch.utils.data.DataLoader(self.dataTest, batch_size=bs, shuffle=True)\n",
        "\n",
        "  def __len__(self):\n",
        "    return len(self.dataTrain)    #non serve a nulla per ora?\n",
        "\n",
        "  def __getitem__(self, index):\n",
        "    return self.dataTrain[index][0], self.dataTrain[index][1], index\n"
      ],
      "metadata": {
        "id": "z7syXNHqCXwP"
      },
      "execution_count": 2,
      "outputs": []
    },
    {
      "cell_type": "code",
      "source": [
        "cif = loadCIFAR()"
      ],
      "metadata": {
        "colab": {
          "base_uri": "https://localhost:8080/",
          "height": 101,
          "referenced_widgets": [
            "c24b72bae5fa4578b2d59e930019dc08",
            "74648ea7d1764bf7ab3752c01f242d28",
            "cf3550aaa8f349d6bfc80acbda9cded7",
            "3000e618bbcf4cb78feb2044f07551e7",
            "432db0e305104a01aaa25c98fb068b90",
            "50ae16928b7d4c84a4422b8f0a2c9d25",
            "d6a059105d164869abc69239ed154ad8",
            "be7d4470458149e2a4652a40f38e69c4",
            "b241f7fe6d234e429d4af5fa4b38fc03",
            "713a639a012a4667b8aa92b61299b318",
            "873a15d58e624693bb0656329d1f30c0"
          ]
        },
        "id": "VuaDpK8nIg3I",
        "outputId": "e8195a85-c3ff-4c77-b4d5-0b03f458c95a"
      },
      "execution_count": 3,
      "outputs": [
        {
          "output_type": "stream",
          "name": "stdout",
          "text": [
            "Downloading https://www.cs.toronto.edu/~kriz/cifar-10-python.tar.gz to sample_data/cifar-10-python.tar.gz\n"
          ]
        },
        {
          "output_type": "display_data",
          "data": {
            "text/plain": [
              "  0%|          | 0/170498071 [00:00<?, ?it/s]"
            ],
            "application/vnd.jupyter.widget-view+json": {
              "version_major": 2,
              "version_minor": 0,
              "model_id": "c24b72bae5fa4578b2d59e930019dc08"
            }
          },
          "metadata": {}
        },
        {
          "output_type": "stream",
          "name": "stdout",
          "text": [
            "Extracting sample_data/cifar-10-python.tar.gz to sample_data/\n",
            "Files already downloaded and verified\n"
          ]
        }
      ]
    },
    {
      "cell_type": "code",
      "source": [
        "trainData = cif.dataTrain\n",
        "testData = cif.dataTest\n",
        "trainLoader = cif.trainLoader\n",
        "testLoader =  cif.testLoader"
      ],
      "metadata": {
        "id": "CMzJeI-WIzrA"
      },
      "execution_count": 4,
      "outputs": []
    },
    {
      "cell_type": "code",
      "source": [
        "trainData, testData, trainLoader, testLoader"
      ],
      "metadata": {
        "colab": {
          "base_uri": "https://localhost:8080/"
        },
        "id": "SdCqgxgPQl7z",
        "outputId": "d4df954e-cc22-49af-8390-72c890871810"
      },
      "execution_count": 5,
      "outputs": [
        {
          "output_type": "execute_result",
          "data": {
            "text/plain": [
              "(Dataset CIFAR10\n",
              "     Number of datapoints: 50000\n",
              "     Root location: sample_data/\n",
              "     Split: Train\n",
              "     StandardTransform\n",
              " Transform: ToTensor(), Dataset CIFAR10\n",
              "     Number of datapoints: 10000\n",
              "     Root location: sample_data/\n",
              "     Split: Test\n",
              "     StandardTransform\n",
              " Transform: ToTensor(), <torch.utils.data.dataloader.DataLoader at 0x7f9058293640>, <torch.utils.data.dataloader.DataLoader at 0x7f90582931c0>)"
            ]
          },
          "metadata": {},
          "execution_count": 5
        }
      ]
    },
    {
      "cell_type": "markdown",
      "source": [
        "Plot some images"
      ],
      "metadata": {
        "id": "wcna_8tJR08F"
      }
    },
    {
      "cell_type": "code",
      "source": [
        "import numpy as np\n",
        "import matplotlib.pyplot as plt\n",
        "toPlot = trainData[123][0].numpy()\n",
        "plt.imshow(np.transpose(toPlot, (1, 2, 0)))     #need to also change the order of the axes\n"
      ],
      "metadata": {
        "colab": {
          "base_uri": "https://localhost:8080/",
          "height": 283
        },
        "id": "MpUNKIkeR0wM",
        "outputId": "120d0de9-35c8-4a65-d91e-b192d7dbf01e"
      },
      "execution_count": 6,
      "outputs": [
        {
          "output_type": "execute_result",
          "data": {
            "text/plain": [
              "<matplotlib.image.AxesImage at 0x7f905827ef40>"
            ]
          },
          "metadata": {},
          "execution_count": 6
        },
        {
          "output_type": "display_data",
          "data": {
            "text/plain": [
              "<Figure size 432x288 with 1 Axes>"
            ],
            "image/png": "[encoded data removed]"
          },
          "metadata": {
            "needs_background": "light"
          }
        }
      ]
    },
    {
      "cell_type": "code",
      "source": [
        "labels_map = {0: \"airplane\", 1: \"automobile\", 2: \"bird\", 3: \"cat\", 4: \"deer\", 5:\n",
        "\"dog\", 6: \"frog\", 7: \"horse\", 8: \"ship\", 9: \"truck\"}"
      ],
      "metadata": {
        "id": "Ko9ABGVjReVv"
      },
      "execution_count": 7,
      "outputs": []
    },
    {
      "cell_type": "markdown",
      "source": [
        "Plot random pics"
      ],
      "metadata": {
        "id": "NIU6l3emVtyO"
      }
    },
    {
      "cell_type": "code",
      "source": [
        "figure = plt.figure(figsize=(10, 5))\n",
        "cols, rows = 5, 2\n",
        "for i in range(1, cols * rows + 1):\n",
        "    sample_idx = torch.randint(len(trainData), size=(1,)).item()\n",
        "    img, label = trainData[sample_idx]\n",
        "    figure.add_subplot(rows, cols, i)\n",
        "    plt.title(labels_map[label])\n",
        "    plt.axis(\"off\")\n",
        "    toPlot = img.numpy()\n",
        "    plt.imshow(np.transpose(toPlot, (1, 2, 0)))     #need to also change the order of the axes\n",
        "plt.show()"
      ],
      "metadata": {
        "colab": {
          "base_uri": "https://localhost:8080/",
          "height": 291
        },
        "id": "qs3Dt5UeUT3Z",
        "outputId": "6928bf47-4a95-451b-8892-06e4fd38a835"
      },
      "execution_count": 8,
      "outputs": [
        {
          "output_type": "display_data",
          "data": {
            "text/plain": [
              "<Figure size 720x360 with 10 Axes>"
            ],
            "image/png": "[encoded data removed]"
          },
          "metadata": {
            "needs_background": "light"
          }
        }
      ]
    },
    {
      "cell_type": "code",
      "source": [
        "next(iter(trainLoader))"
      ],
      "metadata": {
        "colab": {
          "base_uri": "https://localhost:8080/"
        },
        "id": "tqd6okXuZSJx",
        "outputId": "12781c09-a0dd-432c-b682-8f6005e9097b"
      },
      "execution_count": 9,
      "outputs": [
        {
          "output_type": "execute_result",
          "data": {
            "text/plain": [
              "[tensor([[[[0.6471, 0.6588, 0.6667,  ..., 0.4588, 0.5490, 0.6039],\n",
              "           [0.6549, 0.6863, 0.7059,  ..., 0.5412, 0.5725, 0.6196],\n",
              "           [0.6902, 0.7176, 0.7451,  ..., 0.5725, 0.6078, 0.5843],\n",
              "           ...,\n",
              "           [0.3765, 0.4157, 0.4235,  ..., 0.3765, 0.4902, 0.6941],\n",
              "           [0.4863, 0.6078, 0.6314,  ..., 0.4196, 0.4588, 0.6471],\n",
              "           [0.5765, 0.5922, 0.5922,  ..., 0.3686, 0.4471, 0.6627]],\n",
              " \n",
              "          [[0.4667, 0.4549, 0.4667,  ..., 0.3686, 0.4510, 0.4980],\n",
              "           [0.4588, 0.4824, 0.5216,  ..., 0.4471, 0.4784, 0.5137],\n",
              "           [0.4863, 0.5137, 0.5647,  ..., 0.4706, 0.5098, 0.4824],\n",
              "           ...,\n",
              "           [0.2549, 0.3020, 0.3059,  ..., 0.2471, 0.4235, 0.6431],\n",
              "           [0.3569, 0.4706, 0.5020,  ..., 0.3020, 0.3765, 0.6000],\n",
              "           [0.4431, 0.4510, 0.4627,  ..., 0.2627, 0.3647, 0.6118]],\n",
              " \n",
              "          [[0.2980, 0.2902, 0.2902,  ..., 0.2667, 0.3294, 0.3765],\n",
              "           [0.2941, 0.3176, 0.3373,  ..., 0.3294, 0.3529, 0.3882],\n",
              "           [0.3255, 0.3490, 0.3765,  ..., 0.3529, 0.3882, 0.3725],\n",
              "           ...,\n",
              "           [0.2000, 0.2431, 0.2510,  ..., 0.1922, 0.3647, 0.5176],\n",
              "           [0.2549, 0.3647, 0.3961,  ..., 0.2471, 0.3020, 0.4824],\n",
              "           [0.3176, 0.3176, 0.3373,  ..., 0.2078, 0.2824, 0.5020]]]]),\n",
              " tensor([6])]"
            ]
          },
          "metadata": {},
          "execution_count": 9
        }
      ]
    },
    {
      "cell_type": "markdown",
      "source": [
        "Plot a photo for each category"
      ],
      "metadata": {
        "id": "_KEsysSFVwOq"
      }
    },
    {
      "cell_type": "code",
      "source": [
        "figure2 = plt.figure(figsize=(10, 5))\n",
        "cols, rows = 5, 2\n",
        "datas = []\n",
        "labels = []\n",
        "for i in range(1, cols * rows + 1):\n",
        "  for data, label in trainLoader:\n",
        "    if len(labels) < 10:\n",
        "      if label.item() not in labels:\n",
        "          labels.append(label.item())\n",
        "          #datas.append(data)\n",
        "          figure2.add_subplot(rows, cols, i)\n",
        "          plt.title(labels_map[label.item()])\n",
        "          plt.axis(\"off\")\n",
        "          toPlot = data.squeeze().numpy()\n",
        "          plt.imshow(np.transpose(toPlot, (1, 2, 0)))\n",
        "    else: \n",
        "      break\n",
        "#torchvision.utils.make_grid(datas, labels)\n",
        "plt.show()"
      ],
      "metadata": {
        "colab": {
          "base_uri": "https://localhost:8080/",
          "height": 143
        },
        "id": "Be6rGeeiVykV",
        "outputId": "b8138bc1-812d-47a3-80e5-753d9a9372b5"
      },
      "execution_count": 10,
      "outputs": [
        {
          "output_type": "display_data",
          "data": {
            "text/plain": [
              "<Figure size 720x360 with 10 Axes>"
            ],
            "image/png": "[encoded data removed]"
          },
          "metadata": {
            "needs_background": "light"
          }
        }
      ]
    },
    {
      "cell_type": "code",
      "source": [
        "def imshow(img):\n",
        "    img = img / 2 + 0.5     # unnormalize\n",
        "    npimg = img.numpy()\n",
        "    plt.imshow(np.transpose(npimg, (1, 2, 0)))\n",
        "    plt.show()"
      ],
      "metadata": {
        "id": "7qVlR39ekGwK"
      },
      "execution_count": 11,
      "outputs": []
    },
    {
      "cell_type": "code",
      "source": [
        "########################################################################\n",
        "# 2. Define a Convolutional Neural Network\n",
        "# ^^^^^^^^^^^^^^^^^^^^^^^^^^^^^^^^^^^^^^\n",
        "# Copy the neural network from the Neural Networks section before and modify it to\n",
        "# take 3-channel images (instead of 1-channel images as it was defined).\n",
        "\n",
        "import torch.nn as nn\n",
        "import torch.nn.functional as F\n",
        "\n",
        "\n",
        "class Net(nn.Module):\n",
        "    def __init__(self):\n",
        "        super().__init__()\n",
        "        self.conv1 = nn.Conv2d(3, 6, 5)\n",
        "        self.pool = nn.MaxPool2d(2, 2)\n",
        "        self.conv2 = nn.Conv2d(6, 16, 5)\n",
        "        self.fc1 = nn.Linear(16 * 5 * 5, 120)\n",
        "        self.fc2 = nn.Linear(120, 84)\n",
        "        self.fc3 = nn.Linear(84, 10)\n",
        "\n",
        "    def forward(self, x):\n",
        "        x = self.pool(F.relu(self.conv1(x)))\n",
        "        x = self.pool(F.relu(self.conv2(x)))\n",
        "        x = torch.flatten(x, 1) # flatten all dimensions except batch\n",
        "        x = F.relu(self.fc1(x))\n",
        "        x = F.relu(self.fc2(x))\n",
        "        x = self.fc3(x)\n",
        "        return x\n",
        "\n",
        "\n",
        "net = Net()\n",
        "\n",
        "########################################################################\n",
        "# 3. Define a Loss function and optimizer\n",
        "# ^^^^^^^^^^^^^^^^^^^^^^^^^^^^^^^^^^^^^^^\n",
        "# Let's use a Classification Cross-Entropy loss and SGD with momentum.\n",
        "\n",
        "import torch.optim as optim\n",
        "\n",
        "criterion = nn.CrossEntropyLoss()\n",
        "optimizer = optim.SGD(net.parameters(), lr=0.001, momentum=0.9)\n",
        "\n",
        "########################################################################\n",
        "# 4. Train the network\n",
        "# ^^^^^^^^^^^^^^^^^^^^\n",
        "#\n",
        "# This is when things start to get interesting.\n",
        "# We simply have to loop over our data iterator, and feed the inputs to the\n",
        "# network and optimize.\n",
        "\n",
        "for epoch in range(2):  # loop over the dataset multiple times\n",
        "\n",
        "    running_loss = 0.0\n",
        "    for i, data in enumerate(trainLoader, 0):\n",
        "        # get the inputs; data is a list of [inputs, labels]\n",
        "        inputs, labels = data\n",
        "\n",
        "        # zero the parameter gradients\n",
        "        optimizer.zero_grad()\n",
        "\n",
        "        # forward + backward + optimize\n",
        "        outputs = net(inputs)\n",
        "        loss = criterion(outputs, labels)\n",
        "        loss.backward()\n",
        "        optimizer.step()\n",
        "\n",
        "        # print statistics\n",
        "        running_loss += loss.item()\n",
        "        if i % 2000 == 1999:    # print every 2000 mini-batches\n",
        "            print(f'[{epoch + 1}, {i + 1:5d}] loss: {running_loss / 2000:.3f}')\n",
        "            running_loss = 0.0\n",
        "\n",
        "print('Finished Training')\n",
        "\n",
        "########################################################################\n",
        "# Let's quickly save our trained model:\n",
        "\n",
        "PATH = './cifar_net.pth'\n",
        "torch.save(net.state_dict(), PATH)\n",
        "\n",
        "########################################################################\n",
        "# See `here <https://pytorch.org/docs/stable/notes/serialization.html>`_\n",
        "# for more details on saving PyTorch models.\n",
        "#\n",
        "# 5. Test the network on the test data\n",
        "# ^^^^^^^^^^^^^^^^^^^^^^^^^^^^^^^^^^^^\n",
        "#\n",
        "# We have trained the network for 2 passes over the training dataset.\n",
        "# But we need to check if the network has learnt anything at all.\n",
        "#\n",
        "# We will check this by predicting the class label that the neural network\n",
        "# outputs, and checking it against the ground-truth. If the prediction is\n",
        "# correct, we add the sample to the list of correct predictions.\n",
        "#\n",
        "# Okay, first step. Let us display an image from the test set to get familiar.\n",
        "\n",
        "dataiter = iter(testLoader)\n",
        "images, labels = next(dataiter)\n",
        "\n",
        "# print images\n",
        "imshow(torchvision.utils.make_grid(images))\n",
        "print('GroundTruth: ', ' '.join(f'{labels_map[labels[j]]:5s}' for j in range(4)))\n",
        "\n",
        "########################################################################\n",
        "# Next, let's load back in our saved model (note: saving and re-loading the model\n",
        "# wasn't necessary here, we only did it to illustrate how to do so):\n",
        "\n",
        "net = Net()\n",
        "net.load_state_dict(torch.load(PATH))\n",
        "\n",
        "########################################################################\n",
        "# Okay, now let us see what the neural network thinks these examples above are:\n",
        "\n",
        "outputs = net(images)\n",
        "\n",
        "########################################################################\n",
        "# The outputs are energies for the 10 classes.\n",
        "# The higher the energy for a class, the more the network\n",
        "# thinks that the image is of the particular class.\n",
        "# So, let's get the index of the highest energy:\n",
        "_, predicted = torch.max(outputs, 1)\n",
        "\n",
        "print('Predicted: ', ' '.join(f'{labels_map[predicted[j]]:5s}'\n",
        "                              for j in range(4)))\n",
        "\n",
        "########################################################################\n",
        "# The results seem pretty good.\n",
        "#\n",
        "# Let us look at how the network performs on the whole dataset.\n",
        "\n",
        "correct = 0\n",
        "total = 0\n",
        "# since we're not training, we don't need to calculate the gradients for our outputs\n",
        "with torch.no_grad():\n",
        "    for data in testLoader:\n",
        "        images, labels = data\n",
        "        # calculate outputs by running images through the network\n",
        "        outputs = net(images)\n",
        "        # the class with the highest energy is what we choose as prediction\n",
        "        _, predicted = torch.max(outputs.data, 1)\n",
        "        total += labels.size(0)\n",
        "        correct += (predicted == labels).sum().item()\n",
        "\n",
        "print(f'Accuracy of the network on the 10000 test images: {100 * correct // total} %')\n",
        "\n",
        "########################################################################\n",
        "# That looks way better than chance, which is 10% accuracy (randomly picking\n",
        "# a class out of 10 classes).\n",
        "# Seems like the network learnt something.\n",
        "#\n",
        "# Hmmm, what are the classes that performed well, and the classes that did\n",
        "# not perform well:\n",
        "\n",
        "# prepare to count predictions for each class\n",
        "correct_pred = {classname: 0 for classname in labels_map}\n",
        "total_pred = {classname: 0 for classname in labels_map}\n",
        "\n",
        "# again no gradients needed\n",
        "with torch.no_grad():\n",
        "    for data in testLoader:\n",
        "        images, labels = data\n",
        "        outputs = net(images)\n",
        "        _, predictions = torch.max(outputs, 1)\n",
        "        # collect the correct predictions for each class\n",
        "        for label, prediction in zip(labels, predictions):\n",
        "            if label == prediction:\n",
        "                correct_pred[labels_map[label]] += 1\n",
        "            total_pred[labels_map[label]] += 1\n",
        "\n",
        "\n",
        "# print accuracy for each class\n",
        "for classname, correct_count in correct_pred.items():\n",
        "    accuracy = 100 * float(correct_count) / total_pred[classname]\n",
        "    print(f'Accuracy for class: {classname:5s} is {accuracy:.1f} %')\n",
        "\n",
        "########################################################################\n",
        "# Okay, so what next?\n",
        "#\n",
        "# How do we run these neural networks on the GPU?\n",
        "#\n",
        "# Training on GPU\n",
        "# ----------------\n",
        "# Just like how you transfer a Tensor onto the GPU, you transfer the neural\n",
        "# net onto the GPU.\n",
        "#\n",
        "# Let's first define our device as the first visible cuda device if we have\n",
        "# CUDA available:\n",
        "\n",
        "device = torch.device('cuda:0' if torch.cuda.is_available() else 'cpu')\n",
        "\n",
        "# Assuming that we are on a CUDA machine, this should print a CUDA device:\n",
        "\n",
        "print(device)\n",
        "\n",
        "########################################################################\n",
        "# The rest of this section assumes that ``device`` is a CUDA device.\n",
        "#\n",
        "# Then these methods will recursively go over all modules and convert their\n",
        "# parameters and buffers to CUDA tensors:\n",
        "#\n",
        "# .. code:: python\n",
        "#\n",
        "#     net.to(device)\n",
        "#\n",
        "#\n",
        "# Remember that you will have to send the inputs and targets at every step\n",
        "# to the GPU too:\n",
        "#\n",
        "# .. code:: python\n",
        "#\n",
        "#         inputs, labels = data[0].to(device), data[1].to(device)\n",
        "#\n",
        "# Why don't I notice MASSIVE speedup compared to CPU? Because your network\n",
        "# is really small.\n",
        "#\n",
        "# **Exercise:** Try increasing the width of your network (argument 2 of\n",
        "# the first ``nn.Conv2d``, and argument 1 of the second ``nn.Conv2d`` –\n",
        "# they need to be the same number), see what kind of speedup you get.\n",
        "#\n",
        "# **Goals achieved**:\n",
        "#\n",
        "# - Understanding PyTorch's Tensor library and neural networks at a high level.\n",
        "# - Train a small neural network to classify images\n",
        "#\n",
        "# Training on multiple GPUs\n",
        "# -------------------------\n",
        "# If you want to see even more MASSIVE speedup using all of your GPUs,\n",
        "# please check out :doc:`data_parallel_tutorial`.\n",
        "#\n",
        "# Where do I go next?\n",
        "# -------------------\n",
        "#\n",
        "# -  :doc:`Train neural nets to play video games </intermediate/reinforcement_q_learning>`\n",
        "# -  `Train a state-of-the-art ResNet network on imagenet`_\n",
        "# -  `Train a face generator using Generative Adversarial Networks`_\n",
        "# -  `Train a word-level language model using Recurrent LSTM networks`_\n",
        "# -  `More examples`_\n",
        "# -  `More tutorials`_\n",
        "# -  `Discuss PyTorch on the Forums`_\n",
        "# -  `Chat with other users on Slack`_\n",
        "#\n",
        "# .. _Train a state-of-the-art ResNet network on imagenet: https://github.com/pytorch/examples/tree/master/imagenet\n",
        "# .. _Train a face generator using Generative Adversarial Networks: https://github.com/pytorch/examples/tree/master/dcgan\n",
        "# .. _Train a word-level language model using Recurrent LSTM networks: https://github.com/pytorch/examples/tree/master/word_language_model\n",
        "# .. _More examples: https://github.com/pytorch/examples\n",
        "# .. _More tutorials: https://github.com/pytorch/tutorials\n",
        "# .. _Discuss PyTorch on the Forums: https://discuss.pytorch.org/\n",
        "# .. _Chat with other users on Slack: https://pytorch.slack.com/messages/beginner/\n",
        "\n",
        "# %%%%%%INVISIBLE_CODE_BLOCK%%%%%%\n",
        "del dataiter\n",
        "# %%%%%%INVISIBLE_CODE_BLOCK%%%%%%"
      ],
      "metadata": {
        "id": "ijXMCj7gj8Br",
        "outputId": "e05c7e7b-6394-4868-8aeb-d663f80077c3",
        "colab": {
          "base_uri": "https://localhost:8080/",
          "height": 849
        }
      },
      "execution_count": 12,
      "outputs": [
        {
          "output_type": "stream",
          "name": "stdout",
          "text": [
            "[1,  2000] loss: 2.302\n",
            "[1,  4000] loss: 2.243\n",
            "[1,  6000] loss: 2.112\n",
            "[1,  8000] loss: 2.099\n",
            "[1, 10000] loss: 2.031\n",
            "[1, 12000] loss: 1.958\n",
            "[1, 14000] loss: 1.952\n",
            "[1, 16000] loss: 1.906\n",
            "[1, 18000] loss: 1.904\n",
            "[1, 20000] loss: 1.850\n",
            "[1, 22000] loss: 1.842\n",
            "[1, 24000] loss: 1.812\n",
            "[1, 26000] loss: 1.783\n",
            "[1, 28000] loss: 1.805\n",
            "[1, 30000] loss: 1.817\n",
            "[1, 32000] loss: 1.797\n",
            "[1, 34000] loss: 1.750\n",
            "[1, 36000] loss: 1.785\n",
            "[1, 38000] loss: 1.744\n",
            "[1, 40000] loss: 1.725\n",
            "[1, 42000] loss: 1.723\n",
            "[1, 44000] loss: 1.724\n",
            "[1, 46000] loss: 1.678\n",
            "[1, 48000] loss: 1.697\n",
            "[1, 50000] loss: 1.709\n",
            "[2,  2000] loss: 1.681\n",
            "[2,  4000] loss: 1.698\n"
          ]
        },
        {
          "output_type": "error",
          "ename": "KeyboardInterrupt",
          "evalue": "ignored",
          "traceback": [
            "\u001b[0;31m---------------------------------------------------------------------------\u001b[0m",
            "\u001b[0;31mKeyboardInterrupt\u001b[0m                         Traceback (most recent call last)",
            "\u001b[0;32m<ipython-input-12-1428706680c9>\u001b[0m in \u001b[0;36m<module>\u001b[0;34m\u001b[0m\n\u001b[1;32m     62\u001b[0m         \u001b[0moutputs\u001b[0m \u001b[0;34m=\u001b[0m \u001b[0mnet\u001b[0m\u001b[0;34m(\u001b[0m\u001b[0minputs\u001b[0m\u001b[0;34m)\u001b[0m\u001b[0;34m\u001b[0m\u001b[0;34m\u001b[0m\u001b[0m\n\u001b[1;32m     63\u001b[0m         \u001b[0mloss\u001b[0m \u001b[0;34m=\u001b[0m \u001b[0mcriterion\u001b[0m\u001b[0;34m(\u001b[0m\u001b[0moutputs\u001b[0m\u001b[0;34m,\u001b[0m \u001b[0mlabels\u001b[0m\u001b[0;34m)\u001b[0m\u001b[0;34m\u001b[0m\u001b[0;34m\u001b[0m\u001b[0m\n\u001b[0;32m---> 64\u001b[0;31m         \u001b[0mloss\u001b[0m\u001b[0;34m.\u001b[0m\u001b[0mbackward\u001b[0m\u001b[0;34m(\u001b[0m\u001b[0;34m)\u001b[0m\u001b[0;34m\u001b[0m\u001b[0;34m\u001b[0m\u001b[0m\n\u001b[0m\u001b[1;32m     65\u001b[0m         \u001b[0moptimizer\u001b[0m\u001b[0;34m.\u001b[0m\u001b[0mstep\u001b[0m\u001b[0;34m(\u001b[0m\u001b[0;34m)\u001b[0m\u001b[0;34m\u001b[0m\u001b[0;34m\u001b[0m\u001b[0m\n\u001b[1;32m     66\u001b[0m \u001b[0;34m\u001b[0m\u001b[0m\n",
            "\u001b[0;32m/usr/local/lib/python3.8/dist-packages/torch/_tensor.py\u001b[0m in \u001b[0;36mbackward\u001b[0;34m(self, gradient, retain_graph, create_graph, inputs)\u001b[0m\n\u001b[1;32m    486\u001b[0m                 \u001b[0minputs\u001b[0m\u001b[0;34m=\u001b[0m\u001b[0minputs\u001b[0m\u001b[0;34m,\u001b[0m\u001b[0;34m\u001b[0m\u001b[0;34m\u001b[0m\u001b[0m\n\u001b[1;32m    487\u001b[0m             )\n\u001b[0;32m--> 488\u001b[0;31m         torch.autograd.backward(\n\u001b[0m\u001b[1;32m    489\u001b[0m             \u001b[0mself\u001b[0m\u001b[0;34m,\u001b[0m \u001b[0mgradient\u001b[0m\u001b[0;34m,\u001b[0m \u001b[0mretain_graph\u001b[0m\u001b[0;34m,\u001b[0m \u001b[0mcreate_graph\u001b[0m\u001b[0;34m,\u001b[0m \u001b[0minputs\u001b[0m\u001b[0;34m=\u001b[0m\u001b[0minputs\u001b[0m\u001b[0;34m\u001b[0m\u001b[0;34m\u001b[0m\u001b[0m\n\u001b[1;32m    490\u001b[0m         )\n",
            "\u001b[0;32m/usr/local/lib/python3.8/dist-packages/torch/autograd/__init__.py\u001b[0m in \u001b[0;36mbackward\u001b[0;34m(tensors, grad_tensors, retain_graph, create_graph, grad_variables, inputs)\u001b[0m\n\u001b[1;32m    195\u001b[0m     \u001b[0;31m# some Python versions print out the first line of a multi-line function\u001b[0m\u001b[0;34m\u001b[0m\u001b[0;34m\u001b[0m\u001b[0;34m\u001b[0m\u001b[0m\n\u001b[1;32m    196\u001b[0m     \u001b[0;31m# calls in the traceback and some print out the last line\u001b[0m\u001b[0;34m\u001b[0m\u001b[0;34m\u001b[0m\u001b[0;34m\u001b[0m\u001b[0m\n\u001b[0;32m--> 197\u001b[0;31m     Variable._execution_engine.run_backward(  # Calls into the C++ engine to run the backward pass\n\u001b[0m\u001b[1;32m    198\u001b[0m         \u001b[0mtensors\u001b[0m\u001b[0;34m,\u001b[0m \u001b[0mgrad_tensors_\u001b[0m\u001b[0;34m,\u001b[0m \u001b[0mretain_graph\u001b[0m\u001b[0;34m,\u001b[0m \u001b[0mcreate_graph\u001b[0m\u001b[0;34m,\u001b[0m \u001b[0minputs\u001b[0m\u001b[0;34m,\u001b[0m\u001b[0;34m\u001b[0m\u001b[0;34m\u001b[0m\u001b[0m\n\u001b[1;32m    199\u001b[0m         allow_unreachable=True, accumulate_grad=True)  # Calls into the C++ engine to run the backward pass\n",
            "\u001b[0;31mKeyboardInterrupt\u001b[0m: "
          ]
        }
      ]
    }
  ]
}